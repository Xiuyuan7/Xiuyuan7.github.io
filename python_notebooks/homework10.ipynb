{
 "cells": [
  {
   "cell_type": "markdown",
   "id": "fd699c24",
   "metadata": {},
   "source": [
    "# IS445 - Homework 10"
   ]
  },
  {
   "cell_type": "markdown",
   "id": "b90945be",
   "metadata": {},
   "source": [
    "***Group Members***     \n",
    "- Xiuyuan Wang (xiuyuan7)      \n",
    "- Jing Wang (jingw13)     \n",
    "- Yichen Huang (yichenh8)   "
   ]
  },
  {
   "cell_type": "code",
   "execution_count": 1,
   "id": "d6b30c52",
   "metadata": {},
   "outputs": [],
   "source": [
    "# import library|\n",
    "import altair as alt"
   ]
  },
  {
   "cell_type": "markdown",
   "id": "447f34cb",
   "metadata": {},
   "source": [
    "## Plot 1 - Barplot"
   ]
  },
  {
   "cell_type": "code",
   "execution_count": 2,
   "id": "b87328e8",
   "metadata": {},
   "outputs": [
    {
     "data": {
      "text/html": [
       "\n",
       "<div id=\"altair-viz-490953b96f4d49318feb30d861cd86e9\"></div>\n",
       "<script type=\"text/javascript\">\n",
       "  var VEGA_DEBUG = (typeof VEGA_DEBUG == \"undefined\") ? {} : VEGA_DEBUG;\n",
       "  (function(spec, embedOpt){\n",
       "    let outputDiv = document.currentScript.previousElementSibling;\n",
       "    if (outputDiv.id !== \"altair-viz-490953b96f4d49318feb30d861cd86e9\") {\n",
       "      outputDiv = document.getElementById(\"altair-viz-490953b96f4d49318feb30d861cd86e9\");\n",
       "    }\n",
       "    const paths = {\n",
       "      \"vega\": \"https://cdn.jsdelivr.net/npm//vega@5?noext\",\n",
       "      \"vega-lib\": \"https://cdn.jsdelivr.net/npm//vega-lib?noext\",\n",
       "      \"vega-lite\": \"https://cdn.jsdelivr.net/npm//vega-lite@4.17.0?noext\",\n",
       "      \"vega-embed\": \"https://cdn.jsdelivr.net/npm//vega-embed@6?noext\",\n",
       "    };\n",
       "\n",
       "    function maybeLoadScript(lib, version) {\n",
       "      var key = `${lib.replace(\"-\", \"\")}_version`;\n",
       "      return (VEGA_DEBUG[key] == version) ?\n",
       "        Promise.resolve(paths[lib]) :\n",
       "        new Promise(function(resolve, reject) {\n",
       "          var s = document.createElement('script');\n",
       "          document.getElementsByTagName(\"head\")[0].appendChild(s);\n",
       "          s.async = true;\n",
       "          s.onload = () => {\n",
       "            VEGA_DEBUG[key] = version;\n",
       "            return resolve(paths[lib]);\n",
       "          };\n",
       "          s.onerror = () => reject(`Error loading script: ${paths[lib]}`);\n",
       "          s.src = paths[lib];\n",
       "        });\n",
       "    }\n",
       "\n",
       "    function showError(err) {\n",
       "      outputDiv.innerHTML = `<div class=\"error\" style=\"color:red;\">${err}</div>`;\n",
       "      throw err;\n",
       "    }\n",
       "\n",
       "    function displayChart(vegaEmbed) {\n",
       "      vegaEmbed(outputDiv, spec, embedOpt)\n",
       "        .catch(err => showError(`Javascript Error: ${err.message}<br>This usually means there's a typo in your chart specification. See the javascript console for the full traceback.`));\n",
       "    }\n",
       "\n",
       "    if(typeof define === \"function\" && define.amd) {\n",
       "      requirejs.config({paths});\n",
       "      require([\"vega-embed\"], displayChart, err => showError(`Error loading script: ${err.message}`));\n",
       "    } else {\n",
       "      maybeLoadScript(\"vega\", \"5\")\n",
       "        .then(() => maybeLoadScript(\"vega-lite\", \"4.17.0\"))\n",
       "        .then(() => maybeLoadScript(\"vega-embed\", \"6\"))\n",
       "        .catch(showError)\n",
       "        .then(() => displayChart(vegaEmbed));\n",
       "    }\n",
       "  })({\"config\": {\"view\": {\"continuousWidth\": 400, \"continuousHeight\": 300}}, \"data\": {\"url\": \"https://raw.githubusercontent.com/UIUC-iSchool-DataViz/is445_bcubcg_fall2022/main/data/building_inventory.csv\"}, \"mark\": \"bar\", \"encoding\": {\"x\": {\"field\": \"Bldg Status\", \"type\": \"nominal\"}, \"y\": {\"aggregate\": \"median\", \"field\": \"Square Footage\"}}, \"height\": 200, \"width\": 300, \"$schema\": \"https://vega.github.io/schema/vega-lite/v4.17.0.json\"}, {\"mode\": \"vega-lite\"});\n",
       "</script>"
      ],
      "text/plain": [
       "alt.Chart(...)"
      ]
     },
     "execution_count": 2,
     "metadata": {},
     "output_type": "execute_result"
    }
   ],
   "source": [
    "chart = alt.Chart.from_dict({\n",
    "    \"data\": {\"url\": \"https://raw.githubusercontent.com/UIUC-iSchool-DataViz/is445_bcubcg_fall2022/main/data/building_inventory.csv\"},\n",
    "    \"mark\": \"bar\",\n",
    "    \"height\": 200,\n",
    "    \"width\": 300,\n",
    "    \"encoding\": {\n",
    "        \"x\": {\"field\": \"Bldg Status\", \"type\": \"nominal\"},\n",
    "        \"y\": {\"aggregate\": \"median\", \"field\": \"Square Footage\"}\n",
    "    },\n",
    "})\n",
    "chart"
   ]
  },
  {
   "cell_type": "markdown",
   "id": "3a34935a",
   "metadata": {},
   "source": [
    "### Write-up for plot 3"
   ]
  },
  {
   "cell_type": "markdown",
   "id": "641cb4ec",
   "metadata": {},
   "source": [
    "This is a simple plot to show the rough sight of building-status with size of buildings, so just choose the default color. Using the median instead of average, which makes the numeric footage more scientific. The building status is just three categories: Abandon, In progress and In use.      \n",
    "  \n",
    "For the encoding, field of axis y - Square Footage which is aggregated by median to clear its data accuracy, axis x is just specified as its own datatype which is the axis y field did as well.       \n",
    "\n",
    "If we analysis the relationship or other reasons to create such distribution, this simple diagram can be used as addtional resource for further researches."
   ]
  },
  {
   "cell_type": "markdown",
   "id": "32b8f004",
   "metadata": {},
   "source": [
    "## Plot 2 - Interactive plot "
   ]
  },
  {
   "cell_type": "code",
   "execution_count": 3,
   "id": "e5ced6db",
   "metadata": {},
   "outputs": [],
   "source": [
    "brush = alt.selection_interval(encodings=['x','y'])"
   ]
  },
  {
   "cell_type": "code",
   "execution_count": 4,
   "id": "65b9b659",
   "metadata": {
    "scrolled": true
   },
   "outputs": [],
   "source": [
    "# draw the rect plot\n",
    "rect = alt.Chart.from_dict({\n",
    "  \"data\":{\"url\": \"https://raw.githubusercontent.com/UIUC-iSchool-DataViz/is445_bcubcg_fall2022/main/data/building_inventory.csv\"},\n",
    "  \"mark\":\"rect\",\n",
    "  \"height\":700,\n",
    "  \"width\":500,\n",
    "  \"encoding\": {\n",
    "      \"x\":{\"field\":\"Agency Name\",\"type\":\"ordinal\"},\n",
    "      \"y\":{\"field\":\"County\", \"type\":\"ordinal\"},\n",
    "      \"color\":{\"aggregate\":\"count\", \"type\":\"quantitative\"}  \n",
    "    }\n",
    "\n",
    "  }\n",
    ").add_selection(\n",
    "    brush\n",
    ")"
   ]
  },
  {
   "cell_type": "code",
   "execution_count": 5,
   "id": "8c1a93b3",
   "metadata": {
    "scrolled": true
   },
   "outputs": [],
   "source": [
    "# draw the bar plot\n",
    "bar = alt.Chart.from_dict({\n",
    "    \"data\":{\"url\": \"https://raw.githubusercontent.com/UIUC-iSchool-DataViz/is445_bcubcg_fall2022/main/data/building_inventory.csv\"},\n",
    "    \"mark\":{\"type\": \"bar\",\n",
    "           \"color\": \"green\"\n",
    "           },\n",
    "    \"encoding\":{\n",
    "      \"x\":{\"field\": \"Agency Name\",\"type\":\"ordinal\"},\n",
    "      \"y\":{\"field\":\"Square Footage\", \"aggregate\":\"sum\",\"type\":\"quantitative\"}\n",
    "  }\n",
    "}).transform_filter(\n",
    "    brush\n",
    ")"
   ]
  },
  {
   "cell_type": "code",
   "execution_count": 6,
   "id": "9de063b1",
   "metadata": {},
   "outputs": [],
   "source": [
    "dashboard = rect | bar"
   ]
  },
  {
   "cell_type": "code",
   "execution_count": 7,
   "id": "a6f5a93e",
   "metadata": {},
   "outputs": [
    {
     "data": {
      "text/html": [
       "\n",
       "<div id=\"altair-viz-e843c5fe7ba84da4822ab83802ddcbb1\"></div>\n",
       "<script type=\"text/javascript\">\n",
       "  var VEGA_DEBUG = (typeof VEGA_DEBUG == \"undefined\") ? {} : VEGA_DEBUG;\n",
       "  (function(spec, embedOpt){\n",
       "    let outputDiv = document.currentScript.previousElementSibling;\n",
       "    if (outputDiv.id !== \"altair-viz-e843c5fe7ba84da4822ab83802ddcbb1\") {\n",
       "      outputDiv = document.getElementById(\"altair-viz-e843c5fe7ba84da4822ab83802ddcbb1\");\n",
       "    }\n",
       "    const paths = {\n",
       "      \"vega\": \"https://cdn.jsdelivr.net/npm//vega@5?noext\",\n",
       "      \"vega-lib\": \"https://cdn.jsdelivr.net/npm//vega-lib?noext\",\n",
       "      \"vega-lite\": \"https://cdn.jsdelivr.net/npm//vega-lite@4.17.0?noext\",\n",
       "      \"vega-embed\": \"https://cdn.jsdelivr.net/npm//vega-embed@6?noext\",\n",
       "    };\n",
       "\n",
       "    function maybeLoadScript(lib, version) {\n",
       "      var key = `${lib.replace(\"-\", \"\")}_version`;\n",
       "      return (VEGA_DEBUG[key] == version) ?\n",
       "        Promise.resolve(paths[lib]) :\n",
       "        new Promise(function(resolve, reject) {\n",
       "          var s = document.createElement('script');\n",
       "          document.getElementsByTagName(\"head\")[0].appendChild(s);\n",
       "          s.async = true;\n",
       "          s.onload = () => {\n",
       "            VEGA_DEBUG[key] = version;\n",
       "            return resolve(paths[lib]);\n",
       "          };\n",
       "          s.onerror = () => reject(`Error loading script: ${paths[lib]}`);\n",
       "          s.src = paths[lib];\n",
       "        });\n",
       "    }\n",
       "\n",
       "    function showError(err) {\n",
       "      outputDiv.innerHTML = `<div class=\"error\" style=\"color:red;\">${err}</div>`;\n",
       "      throw err;\n",
       "    }\n",
       "\n",
       "    function displayChart(vegaEmbed) {\n",
       "      vegaEmbed(outputDiv, spec, embedOpt)\n",
       "        .catch(err => showError(`Javascript Error: ${err.message}<br>This usually means there's a typo in your chart specification. See the javascript console for the full traceback.`));\n",
       "    }\n",
       "\n",
       "    if(typeof define === \"function\" && define.amd) {\n",
       "      requirejs.config({paths});\n",
       "      require([\"vega-embed\"], displayChart, err => showError(`Error loading script: ${err.message}`));\n",
       "    } else {\n",
       "      maybeLoadScript(\"vega\", \"5\")\n",
       "        .then(() => maybeLoadScript(\"vega-lite\", \"4.17.0\"))\n",
       "        .then(() => maybeLoadScript(\"vega-embed\", \"6\"))\n",
       "        .catch(showError)\n",
       "        .then(() => displayChart(vegaEmbed));\n",
       "    }\n",
       "  })({\"config\": {\"view\": {\"continuousWidth\": 400, \"continuousHeight\": 300}}, \"hconcat\": [{\"data\": {\"url\": \"https://raw.githubusercontent.com/UIUC-iSchool-DataViz/is445_bcubcg_fall2022/main/data/building_inventory.csv\"}, \"mark\": \"rect\", \"encoding\": {\"color\": {\"aggregate\": \"count\", \"type\": \"quantitative\"}, \"x\": {\"field\": \"Agency Name\", \"type\": \"ordinal\"}, \"y\": {\"field\": \"County\", \"type\": \"ordinal\"}}, \"height\": 700, \"selection\": {\"selector001\": {\"type\": \"interval\", \"encodings\": [\"x\", \"y\"]}}, \"width\": 500}, {\"data\": {\"url\": \"https://raw.githubusercontent.com/UIUC-iSchool-DataViz/is445_bcubcg_fall2022/main/data/building_inventory.csv\"}, \"mark\": {\"type\": \"bar\", \"color\": \"green\"}, \"encoding\": {\"x\": {\"field\": \"Agency Name\", \"type\": \"ordinal\"}, \"y\": {\"aggregate\": \"sum\", \"field\": \"Square Footage\", \"type\": \"quantitative\"}}, \"transform\": [{\"filter\": {\"selection\": \"selector001\"}}]}], \"$schema\": \"https://vega.github.io/schema/vega-lite/v4.17.0.json\"}, {\"mode\": \"vega-lite\"});\n",
       "</script>"
      ],
      "text/plain": [
       "alt.HConcatChart(...)"
      ]
     },
     "execution_count": 7,
     "metadata": {},
     "output_type": "execute_result"
    }
   ],
   "source": [
    "dashboard"
   ]
  },
  {
   "cell_type": "markdown",
   "id": "91d4e40f",
   "metadata": {},
   "source": [
    "### Write-up for plot 2 - interactive plot"
   ]
  },
  {
   "cell_type": "markdown",
   "id": "9d747bbb",
   "metadata": {},
   "source": [
    "In this plot we have 2 diagrams that are linked together.           \n",
    "\n",
    "The upper one is a rectangular plot about the agencies and their counts of properties in each county.  For the encoding of this chart, we specified the x variable and the data type, the y variable and its data type, as well as the  aggregation method as count in the color parameter.        \n",
    "\n",
    "The lower one is a bar plot describing the sum of square foots of  properties owned by different agencies. This is a chart that is carried on from homework 9.  In the encoding part, we specified the x variable and its data type, the y variables and its aggregation type -- sum, and its data type as well. I get rid of the “tooltip“ spec for the “mark” because as this chart is linked to the upper one, this parameter would not work.        \n",
    "\n",
    "For the design of interactivity, I followed the examples given in week 10’s lecture. Readers can select data by dragging a rectangle box in the upper chart, and the chart below will only display the diagram using data chosen in the upper chart. In this way, chart readers can  inspect into specific agencies and counties they are interested in. They can also check that, for a given agency, in which county they have the most areas of property. So we believe in this way, we can bring more insight into the dataset.     \n",
    "\n",
    "To make the plots work in altair, we didn't change much. We just changed the original side-by-side plot code in Vega-lite by deleting the params and transformation parameters and defined an alt.selection_interval variable in Altair.   "
   ]
  },
  {
   "cell_type": "code",
   "execution_count": 8,
   "id": "33f8c84b",
   "metadata": {},
   "outputs": [],
   "source": [
    "chart.save(\"plot1.json\")"
   ]
  },
  {
   "cell_type": "code",
   "execution_count": 9,
   "id": "aec8e3e3",
   "metadata": {},
   "outputs": [],
   "source": [
    "dashboard.save(\"plot2.json\")"
   ]
  },
  {
   "cell_type": "code",
   "execution_count": null,
   "id": "a480fec6",
   "metadata": {},
   "outputs": [],
   "source": []
  }
 ],
 "metadata": {
  "kernelspec": {
   "display_name": "Python 3 (ipykernel)",
   "language": "python",
   "name": "python3"
  },
  "language_info": {
   "codemirror_mode": {
    "name": "ipython",
    "version": 3
   },
   "file_extension": ".py",
   "mimetype": "text/x-python",
   "name": "python",
   "nbconvert_exporter": "python",
   "pygments_lexer": "ipython3",
   "version": "3.7.12"
  }
 },
 "nbformat": 4,
 "nbformat_minor": 5
}
